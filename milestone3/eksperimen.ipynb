{
 "cells": [
  {
   "cell_type": "markdown",
   "metadata": {},
   "source": [
    "# Tugas Besar Machine Learning Eksperimen"
   ]
  },
  {
   "cell_type": "markdown",
   "metadata": {},
   "source": [
    "## confused matrix, akurasi, presisi, recall, F1"
   ]
  },
  {
   "cell_type": "code",
   "execution_count": 17,
   "metadata": {},
   "outputs": [],
   "source": [
    "import math\n",
    "import random\n",
    "import numpy as np\n",
    "import pandas as pd\n",
    "import matplotlib.pyplot as plt\n",
    "from sklearn import svm,datasets,model_selection,metrics,neural_network"
   ]
  },
  {
   "cell_type": "code",
   "execution_count": 18,
   "metadata": {},
   "outputs": [],
   "source": [
    "def confused_matrix(y_true,y_pred):\n",
    "    tp = 0\n",
    "    fp = 0\n",
    "    fn = 0\n",
    "    tn = 0\n",
    "    for i in range (len(y_pred)):\n",
    "        if(y_pred[i] == 1 and y_true[i] == 1):tp = tp + 1 # true positive\n",
    "        elif(y_pred[i] == 1 and y_true[i] == 0):fp = fp + 1 # false positive\n",
    "        elif(y_pred[i] == 0 and y_true[i] == 1):fn = fn + 1 # false negative\n",
    "        elif(y_pred[i] == 0 and y_true[i] == 0):tn = tn + 1 # true negative\n",
    "    return tp,fp,fn,tn\n",
    "\n",
    "def accuracy(tp,fp,fn,tn):\n",
    "    return((tp+tn)/(tp+fp+fn+tn))\n",
    "\n",
    "def precision(tp,fp): #PPV\n",
    "    return(tp/(tp+fp))\n",
    "\n",
    "def recall(tp,fn): #TPR (bukan dibaca tepar)\n",
    "    return(tp/(tp+fn))\n",
    "\n",
    "def f1(tp,fp,fn):\n",
    "    return((2*tp)/(2*tp+fp+fn))\n"
   ]
  },
  {
   "cell_type": "code",
   "execution_count": 19,
   "metadata": {},
   "outputs": [
    {
     "name": "stdout",
     "output_type": "stream",
     "text": [
      "hasil implementasi\n",
      "tp  1\n",
      "fp  3\n",
      "fn  4\n",
      "tn  2\n",
      "accuracy  0.3\n",
      "precision  0.25\n",
      "recall  0.2\n",
      "f1  0.2222222222222222\n",
      "hasil SKlearn\n",
      "tp  1\n",
      "fp  3\n",
      "fn  4\n",
      "tn  2\n",
      "accuracy  0.3\n",
      "precision  0.25\n",
      "recall  0.2\n",
      "f1  0.22222222222222224\n"
     ]
    }
   ],
   "source": [
    "y_pred = [0,0,1,0,1,0,1,0,0,1]\n",
    "y_true = [0,1,1,1,0,1,0,0,1,0]\n",
    "tp,fp,fn,tn = confused_matrix(y_true,y_pred)\n",
    "print(\"hasil implementasi\")\n",
    "print(\"tp \",str(tp))\n",
    "print(\"fp \",str(fp))\n",
    "print(\"fn \",str(fn))\n",
    "print(\"tn \",str(tn))\n",
    "print(\"accuracy \",str(accuracy(tp,fp,fn,tn)))\n",
    "print(\"precision \",str(precision(tp,fp)))\n",
    "print(\"recall \",str(recall(tp,fn)))\n",
    "print(\"f1 \",str(f1(tp,fp,fn)))\n",
    "print(\"hasil SKlearn\")\n",
    "tn1, fp1, fn1, tp1 = metrics.confusion_matrix(y_true,y_pred).ravel()\n",
    "print(\"tp \",str(tp1))\n",
    "print(\"fp \",str(fp1))\n",
    "print(\"fn \",str(fn1))\n",
    "print(\"tn \",str(tn1))\n",
    "print(\"accuracy \",str(metrics.accuracy_score(y_true,y_pred)))\n",
    "print(\"precision \",str(metrics.precision_score(y_true,y_pred)))\n",
    "print(\"recall \",str(metrics.recall_score(y_true,y_pred)))\n",
    "print(\"f1 \",str(metrics.f1_score(y_true,y_pred)))"
   ]
  },
  {
   "cell_type": "markdown",
   "metadata": {},
   "source": [
    "## FFNN Learning dataset iris"
   ]
  },
  {
   "cell_type": "code",
   "execution_count": 20,
   "metadata": {},
   "outputs": [
    {
     "name": "stdout",
     "output_type": "stream",
     "text": [
      "Confusion matrix\n",
      "[[6 0 0]\n",
      " [0 4 0]\n",
      " [0 1 4]]\n"
     ]
    },
    {
     "data": {
      "image/png": "[encoded data removed]",
      "text/plain": [
       "<Figure size 432x288 with 2 Axes>"
      ]
     },
     "metadata": {
      "needs_background": "light"
     },
     "output_type": "display_data"
    }
   ],
   "source": [
    "X, y = datasets.load_iris(return_X_y=True)\n",
    "class_names = datasets.load_iris().target_names\n",
    "X_train, X_test, y_train, y_test = model_selection.train_test_split(X,y,test_size=0.1,train_size=0.9)\n",
    "classifier = svm.SVC(kernel='linear', C=0.01).fit(X_train, y_train)\n",
    "np.set_printoptions(precision=2)\n",
    "titles_options = [(\"Confusion matrix\", None)]\n",
    "for title, normalize in titles_options:\n",
    "    disp = metrics.plot_confusion_matrix(classifier, X_test, y_test,\n",
    "                                 display_labels=class_names,\n",
    "                                 cmap=plt.cm.Blues,\n",
    "                                 normalize=normalize)\n",
    "    disp.ax_.set_title(title)\n",
    "\n",
    "    print(title)\n",
    "    print(disp.confusion_matrix)\n",
    "plt.show()"
   ]
  },
  {
   "cell_type": "code",
   "execution_count": 22,
   "metadata": {},
   "outputs": [
    {
     "name": "stdout",
     "output_type": "stream",
     "text": [
      "accuracy  1.0\n",
      "precision  1.0\n",
      "recall  1.0\n",
      "f1  1.0\n",
      "Confused Matrix\n",
      "[[6 0 0]\n",
      " [0 4 0]\n",
      " [0 0 5]]\n"
     ]
    }
   ],
   "source": [
    "kf = model_selection.KFold(n_splits=10)\n",
    "clf = neural_network.MLPClassifier(hidden_layer_sizes=(13,13,13),max_iter=10000)\n",
    "for train_index,test_index in kf.split(X):\n",
    "    clf.fit(X[train_index], y[train_index])\n",
    "print(\"accuracy \",str(metrics.accuracy_score(y_test,clf.predict(X_test))))\n",
    "print(\"precision \",str(metrics.precision_score(y_test,clf.predict(X_test),average='macro',zero_division=1)))\n",
    "print(\"recall \",str(metrics.recall_score(y_test,clf.predict(X_test),average='macro')))\n",
    "print(\"f1 \",str(metrics.f1_score(y_test,clf.predict(X_test),average='macro')))\n",
    "print(\"Confused Matrix\")\n",
    "print(metrics.confusion_matrix(y_test,clf.predict(X_test))) "
   ]
  },
  {
   "cell_type": "code",
   "execution_count": null,
   "metadata": {},
   "outputs": [],
   "source": []
  }
 ],
 "metadata": {
  "kernelspec": {
   "display_name": "Python 3",
   "language": "python",
   "name": "python3"
  },
  "language_info": {
   "codemirror_mode": {
    "name": "ipython",
    "version": 3
   },
   "file_extension": ".py",
   "mimetype": "text/x-python",
   "name": "python",
   "nbconvert_exporter": "python",
   "pygments_lexer": "ipython3",
   "version": "3.9.2"
  },
  "metadata": {
   "interpreter": {
    "hash": "08876914b93de310088a782f60f6c6abc8e6f6e29f02ef0079734cfa98a8305c"
   }
  }
 },
 "nbformat": 4,
 "nbformat_minor": 2
}

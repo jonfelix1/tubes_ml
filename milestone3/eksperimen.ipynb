{
 "metadata": {
  "language_info": {
   "codemirror_mode": {
    "name": "ipython",
    "version": 3
   },
   "file_extension": ".py",
   "mimetype": "text/x-python",
   "name": "python",
   "nbconvert_exporter": "python",
   "pygments_lexer": "ipython3",
   "version": "3.7.5-final"
  },
  "orig_nbformat": 2,
  "kernelspec": {
   "name": "python375jvsc74a57bd008876914b93de310088a782f60f6c6abc8e6f6e29f02ef0079734cfa98a8305c",
   "display_name": "Python 3.7.5 64-bit"
  },
  "metadata": {
   "interpreter": {
    "hash": "08876914b93de310088a782f60f6c6abc8e6f6e29f02ef0079734cfa98a8305c"
   }
  }
 },
 "nbformat": 4,
 "nbformat_minor": 2,
 "cells": [
  {
   "source": [
    "# Tugas Besar Machine Learning Eksperimen"
   ],
   "cell_type": "markdown",
   "metadata": {}
  },
  {
   "source": [
    "## confused matrix, akurasi, presisi, recall, F1"
   ],
   "cell_type": "markdown",
   "metadata": {}
  },
  {
   "cell_type": "code",
   "execution_count": 60,
   "metadata": {},
   "outputs": [],
   "source": [
    "import math\n",
    "import random\n",
    "import numpy as np\n",
    "from sklearn import datasets,model_selection,metrics,neural_network"
   ]
  },
  {
   "cell_type": "code",
   "execution_count": 61,
   "metadata": {},
   "outputs": [],
   "source": [
    "def confused_matrix(y_true,y_pred):\n",
    "    tp = 0\n",
    "    fp = 0\n",
    "    fn = 0\n",
    "    tn = 0\n",
    "    for i in range (len(y_pred)):\n",
    "        if(y_pred[i] == 1 and y_true[i] == 1):tp = tp + 1 # true positive\n",
    "        elif(y_pred[i] == 1 and y_true[i] == 0):fp = fp + 1 # false positive\n",
    "        elif(y_pred[i] == 0 and y_true[i] == 1):fn = fn + 1 # false negative\n",
    "        elif(y_pred[i] == 0 and y_true[i] == 0):tn = tn + 1 # true negative\n",
    "    return tp,fp,fn,tn\n",
    "\n",
    "def accuracy(tp,fp,fn,tn):\n",
    "    return((tp+tn)/(tp+fp+fn+tn))\n",
    "\n",
    "def precision(tp,fp): #PPV\n",
    "    return(tp/(tp+fp))\n",
    "\n",
    "def recall(tp,fn): #TPR (bukan dibaca tepar)\n",
    "    return(tp/(tp+fn))\n",
    "\n",
    "def f1(tp,fp,fn):\n",
    "    return((2*tp)/(2*tp+fp+fn))\n"
   ]
  },
  {
   "cell_type": "code",
   "execution_count": 62,
   "metadata": {},
   "outputs": [
    {
     "output_type": "stream",
     "name": "stdout",
     "text": [
      "hasil implementasi\ntp  1\nfp  3\nfn  4\ntn  2\naccuracy  0.3\nprecision  0.25\nrecall  0.2\nf1  0.2222222222222222\nhasil SKlearn\ntp  1\nfp  3\nfn  4\ntn  2\naccuracy  0.3\nprecision  0.25\nrecall  0.2\nf1  0.22222222222222224\n"
     ]
    }
   ],
   "source": [
    "y_pred = [0,0,1,0,1,0,1,0,0,1]\n",
    "y_true = [0,1,1,1,0,1,0,0,1,0]\n",
    "tp,fp,fn,tn = confused_matrix(y_true,y_pred)\n",
    "print(\"hasil implementasi\")\n",
    "print(\"tp \",str(tp))\n",
    "print(\"fp \",str(fp))\n",
    "print(\"fn \",str(fn))\n",
    "print(\"tn \",str(tn))\n",
    "print(\"accuracy \",str(accuracy(tp,fp,fn,tn)))\n",
    "print(\"precision \",str(precision(tp,fp)))\n",
    "print(\"recall \",str(recall(tp,fn)))\n",
    "print(\"f1 \",str(f1(tp,fp,fn)))\n",
    "print(\"hasil SKlearn\")\n",
    "tn1, fp1, fn1, tp1 = metrics.confusion_matrix(y_true,y_pred).ravel()\n",
    "print(\"tp \",str(tp1))\n",
    "print(\"fp \",str(fp1))\n",
    "print(\"fn \",str(fn1))\n",
    "print(\"tn \",str(tn1))\n",
    "print(\"accuracy \",str(metrics.accuracy_score(y_true,y_pred)))\n",
    "print(\"precision \",str(metrics.precision_score(y_true,y_pred)))\n",
    "print(\"recall \",str(metrics.recall_score(y_true,y_pred)))\n",
    "print(\"f1 \",str(metrics.f1_score(y_true,y_pred)))"
   ]
  },
  {
   "cell_type": "code",
   "execution_count": null,
   "metadata": {},
   "outputs": [],
   "source": []
  }
 ]
}
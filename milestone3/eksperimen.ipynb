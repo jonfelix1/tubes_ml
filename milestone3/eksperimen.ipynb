{
 "cells": [
  {
   "cell_type": "markdown",
   "metadata": {},
   "source": [
    "# Tugas Besar Machine Learning Eksperimen"
   ]
  },
  {
   "cell_type": "markdown",
   "metadata": {},
   "source": [
    "## confused matrix, akurasi, presisi, recall, F1"
   ]
  },
  {
   "cell_type": "code",
   "execution_count": 1,
   "metadata": {},
   "outputs": [],
   "source": [
    "import math\n",
    "import random\n",
    "import numpy as np\n",
    "import pandas as pd\n",
    "import matplotlib.pyplot as plt\n",
    "from sklearn import svm,datasets,model_selection,metrics,neural_network\n",
    "import pickle"
   ]
  },
  {
   "cell_type": "code",
   "execution_count": 2,
   "metadata": {},
   "outputs": [],
   "source": [
    "def confused_matrix(y_true,y_pred):\n",
    "    tp = 0\n",
    "    fp = 0\n",
    "    fn = 0\n",
    "    tn = 0\n",
    "    for i in range (len(y_pred)):\n",
    "        if(y_pred[i] == 1 and y_true[i] == 1):tp = tp + 1 # true positive\n",
    "        elif(y_pred[i] == 1 and y_true[i] == 0):fp = fp + 1 # false positive\n",
    "        elif(y_pred[i] == 0 and y_true[i] == 1):fn = fn + 1 # false negative\n",
    "        elif(y_pred[i] == 0 and y_true[i] == 0):tn = tn + 1 # true negative\n",
    "    return tp,fp,fn,tn\n",
    "\n",
    "def accuracy(tp,fp,fn,tn):\n",
    "    return((tp+tn)/(tp+fp+fn+tn))\n",
    "\n",
    "def precision(tp,fp): #PPV\n",
    "    return(tp/(tp+fp))\n",
    "\n",
    "def recall(tp,fn): #TPR (bukan dibaca tepar)\n",
    "    return(tp/(tp+fn))\n",
    "\n",
    "def f1(tp,fp,fn):\n",
    "    return((2*tp)/(2*tp+fp+fn))\n"
   ]
  },
  {
   "cell_type": "code",
   "execution_count": 3,
   "metadata": {},
   "outputs": [
    {
     "name": "stdout",
     "output_type": "stream",
     "text": [
      "hasil implementasi\n",
      "tp  1\n",
      "fp  3\n",
      "fn  4\n",
      "tn  2\n",
      "accuracy  0.3\n",
      "precision  0.25\n",
      "recall  0.2\n",
      "f1  0.2222222222222222\n",
      "hasil SKlearn\n",
      "tp  1\n",
      "fp  3\n",
      "fn  4\n",
      "tn  2\n",
      "accuracy  0.3\n",
      "precision  0.25\n",
      "recall  0.2\n",
      "f1  0.22222222222222224\n"
     ]
    }
   ],
   "source": [
    "y_pred = [0,0,1,0,1,0,1,0,0,1]\n",
    "y_true = [0,1,1,1,0,1,0,0,1,0]\n",
    "tp,fp,fn,tn = confused_matrix(y_true,y_pred)\n",
    "print(\"hasil implementasi\")\n",
    "print(\"tp \",str(tp))\n",
    "print(\"fp \",str(fp))\n",
    "print(\"fn \",str(fn))\n",
    "print(\"tn \",str(tn))\n",
    "print(\"accuracy \",str(accuracy(tp,fp,fn,tn)))\n",
    "print(\"precision \",str(precision(tp,fp)))\n",
    "print(\"recall \",str(recall(tp,fn)))\n",
    "print(\"f1 \",str(f1(tp,fp,fn)))\n",
    "print(\"hasil SKlearn\")\n",
    "tn1, fp1, fn1, tp1 = metrics.confusion_matrix(y_true,y_pred).ravel()\n",
    "print(\"tp \",str(tp1))\n",
    "print(\"fp \",str(fp1))\n",
    "print(\"fn \",str(fn1))\n",
    "print(\"tn \",str(tn1))\n",
    "print(\"accuracy \",str(metrics.accuracy_score(y_true,y_pred)))\n",
    "print(\"precision \",str(metrics.precision_score(y_true,y_pred)))\n",
    "print(\"recall \",str(metrics.recall_score(y_true,y_pred)))\n",
    "print(\"f1 \",str(metrics.f1_score(y_true,y_pred)))"
   ]
  },
  {
   "cell_type": "markdown",
   "metadata": {},
   "source": [
    "## FFNN Learning dataset iris"
   ]
  },
  {
   "cell_type": "code",
   "execution_count": 4,
   "metadata": {},
   "outputs": [
    {
     "name": "stdout",
     "output_type": "stream",
     "text": [
      "Confusion matrix\n",
      "[[5 0 0]\n",
      " [0 3 0]\n",
      " [0 4 3]]\n",
      "[[5.7 2.5 5.  2. ]\n",
      " [4.8 3.4 1.9 0.2]\n",
      " [5.1 3.3 1.7 0.5]\n",
      " [4.9 2.5 4.5 1.7]\n",
      " [6.8 3.2 5.9 2.3]\n",
      " [5.1 3.8 1.9 0.4]\n",
      " [4.4 3.2 1.3 0.2]\n",
      " [7.7 2.6 6.9 2.3]\n",
      " [6.7 3.3 5.7 2.5]\n",
      " [6.4 3.2 4.5 1.5]\n",
      " [6.3 3.3 4.7 1.6]\n",
      " [5.6 2.5 3.9 1.1]\n",
      " [6.3 2.8 5.1 1.5]\n",
      " [5.7 3.8 1.7 0.3]\n",
      " [5.9 3.  5.1 1.8]]\n",
      "[2 0 0 2 2 0 0 2 2 1 1 1 2 0 2]\n",
      "accuracy  0.7333333333333333\n",
      "macro precision  0.8095238095238096\n",
      "macro recall  0.8095238095238094\n",
      "macro f1-score  0.7333333333333334\n"
     ]
    },
    {
     "data": {
      "image/png": "[encoded data removed]",
      "text/plain": [
       "<Figure size 432x288 with 2 Axes>"
      ]
     },
     "metadata": {
      "needs_background": "light"
     },
     "output_type": "display_data"
    }
   ],
   "source": [
    "X, y = datasets.load_iris(return_X_y=True)\n",
    "class_names = datasets.load_iris().target_names\n",
    "X_train, X_test, y_train, y_test = model_selection.train_test_split(X,y,test_size=0.1,train_size=0.9)\n",
    "classifier = svm.SVC(kernel='linear', C=0.01).fit(X_train, y_train)\n",
    "y_pred = classifier.predict(X_test)\n",
    "np.set_printoptions(precision=2)\n",
    "titles_options = [(\"Confusion matrix\", None)]\n",
    "for title, normalize in titles_options:\n",
    "    disp = metrics.plot_confusion_matrix(classifier, X_test, y_test,\n",
    "                                 display_labels=class_names,\n",
    "                                 cmap=plt.cm.Blues,\n",
    "                                 normalize=normalize)\n",
    "    disp.ax_.set_title(title)\n",
    "\n",
    "    print(title)\n",
    "    print(disp.confusion_matrix)\n",
    "    print(X_test)\n",
    "    print(y_test)\n",
    "    print(\"accuracy \", str(metrics.accuracy_score(y_test, y_pred)))\n",
    "    print(\"macro precision \", str(metrics.precision_score(y_test, y_pred, average='macro')))\n",
    "    print(\"macro recall \", str(metrics.recall_score(y_test, y_pred, average='macro')))\n",
    "    print(\"macro f1-score \", str(metrics.f1_score(y_test, y_pred, average='macro')))\n",
    "plt.show()"
   ]
  },
  {
   "cell_type": "markdown",
   "metadata": {},
   "source": [
    "## FFNN 10-Fold"
   ]
  },
  {
   "cell_type": "code",
   "execution_count": 5,
   "metadata": {},
   "outputs": [
    {
     "name": "stdout",
     "output_type": "stream",
     "text": [
      "accuracy  1.0\n",
      "precision  1.0\n",
      "recall  1.0\n",
      "f1  1.0\n",
      "Confused Matrix\n",
      "[[5 0 0]\n",
      " [0 3 0]\n",
      " [0 0 7]]\n"
     ]
    }
   ],
   "source": [
    "kf = model_selection.KFold(n_splits=10)\n",
    "clf = neural_network.MLPClassifier(hidden_layer_sizes=(13,13,13),max_iter=10000)\n",
    "for train_index,test_index in kf.split(X):\n",
    "    clf.fit(X[train_index], y[train_index])\n",
    "print(\"accuracy \",str(metrics.accuracy_score(y_test,clf.predict(X_test))))\n",
    "print(\"precision \",str(metrics.precision_score(y_test,clf.predict(X_test),average='macro',zero_division=1)))\n",
    "print(\"recall \",str(metrics.recall_score(y_test,clf.predict(X_test),average='macro',zero_division=1)))\n",
    "print(\"f1 \",str(metrics.f1_score(y_test,clf.predict(X_test),average='macro',zero_division=1)))\n",
    "print(\"Confused Matrix\")\n",
    "print(metrics.confusion_matrix(y_test,clf.predict(X_test))) "
   ]
  },
  {
   "cell_type": "markdown",
   "metadata": {},
   "source": [
    "## File save/open"
   ]
  },
  {
   "cell_type": "code",
   "execution_count": 6,
   "metadata": {},
   "outputs": [],
   "source": [
    "file_model_write = open(\"train_model.txt\", \"wb\")\n",
    "pickle.dump(clf, file_model_write)\n",
    "file_model_open = open(\"train_model.txt\", \"rb\")\n",
    "loaded_model = pickle.load(file_model_open)"
   ]
  },
  {
   "cell_type": "markdown",
   "metadata": {},
   "source": [
    "## Model"
   ]
  },
  {
   "cell_type": "code",
   "execution_count": 7,
   "metadata": {},
   "outputs": [
    {
     "name": "stdout",
     "output_type": "stream",
     "text": [
      "accuracy  0.0\n",
      "precision  0.5\n",
      "recall  0.5\n",
      "f1  0.0\n",
      "Confused Matrix\n",
      "[[0 0]\n",
      " [1 0]]\n"
     ]
    }
   ],
   "source": [
    "new_inst_X = [[5.0, 2.0, 4.0, 1.0]]\n",
    "new_inst_Y = [2]\n",
    "new_inst_Y_pred = loaded_model.predict(new_inst_X)\n",
    "print(\"accuracy \", str(metrics.accuracy_score(new_inst_Y, new_inst_Y_pred)))\n",
    "print(\"precision \", str(metrics.precision_score(new_inst_Y, new_inst_Y_pred, average='macro', zero_division=1)))\n",
    "print(\"recall \", str(metrics.recall_score(new_inst_Y, new_inst_Y_pred, average='macro', zero_division=1)))\n",
    "print(\"f1 \", str(metrics.f1_score(new_inst_Y, new_inst_Y_pred, average='macro', zero_division=1)))\n",
    "print(\"Confused Matrix\")\n",
    "print(metrics.confusion_matrix(new_inst_Y, new_inst_Y_pred))"
   ]
  },
  {
   "cell_type": "markdown",
   "metadata": {},
   "source": [
    "## Analisis\n",
    "pada nomor 2, hasil implementasi sudah sesuai dengan sklearn karena hasil implementasi menggunakan rumus yang sesuai dengan cara kerja secara teoritis <br>\n",
    "pada nomor 3, ada hasil yang prediksi yang tidak sesuai dengan nilai sebenarnya karena ada kemiripan pada nilai X sehingga terjadi <i>misclasify</i>"
   ]
  }
 ],
 "metadata": {
  "kernelspec": {
   "display_name": "Python 3",
   "language": "python",
   "name": "python3"
  },
  "language_info": {
   "codemirror_mode": {
    "name": "ipython",
    "version": 3
   },
   "file_extension": ".py",
   "mimetype": "text/x-python",
   "name": "python",
   "nbconvert_exporter": "python",
   "pygments_lexer": "ipython3",
   "version": "3.9.2"
  },
  "metadata": {
   "interpreter": {
    "hash": "08876914b93de310088a782f60f6c6abc8e6f6e29f02ef0079734cfa98a8305c"
   }
  }
 },
 "nbformat": 4,
 "nbformat_minor": 2
}

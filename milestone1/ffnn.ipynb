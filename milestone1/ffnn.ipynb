{
 "metadata": {
  "language_info": {
   "codemirror_mode": {
    "name": "ipython",
    "version": 3
   },
   "file_extension": ".py",
   "mimetype": "text/x-python",
   "name": "python",
   "nbconvert_exporter": "python",
   "pygments_lexer": "ipython3",
   "version": "3.9.1-final"
  },
  "orig_nbformat": 2,
  "kernelspec": {
   "name": "python3",
   "display_name": "Python 3.9.1 64-bit",
   "metadata": {
    "interpreter": {
     "hash": "767d51c1340bd893661ea55ea3124f6de3c7a262a8b4abca0554b478b1e2ff90"
    }
   }
  }
 },
 "nbformat": 4,
 "nbformat_minor": 2,
 "cells": [
  {
   "source": [
    "# Tugas Besar Machine Learning Milestone 1"
   ],
   "cell_type": "markdown",
   "metadata": {}
  },
  {
   "cell_type": "code",
   "execution_count": 1,
   "metadata": {},
   "outputs": [],
   "source": [
    "import numpy as np"
   ]
  },
  {
   "cell_type": "code",
   "execution_count": 2,
   "metadata": {},
   "outputs": [],
   "source": [
    "# Catatan untuk siapapun yang bikin input file untuk dibuat ke parameter"
   ]
  },
  {
   "source": [
    "Struktur data untuk array\n",
    "\n",
    "\n",
    "Sedikit penjelasan untuk parameter  \n",
    "W1 menyimpan semua bobot untuk layer 1  \n",
    "Wn menyimpan semua bobot untuk layer n\n",
    "\n",
    "Untuk memanggil bobot di layer 1 dengan dari x1  ke h1  \n",
    "`parameter['W1'][0][0]`  \n",
    "  \n",
    "Untuk memanggil bias di layer 1  ke-1  \n",
    "`parameter['b1'][0]`\n"
   ],
   "cell_type": "markdown",
   "metadata": {}
  },
  {
   "cell_type": "code",
   "execution_count": 3,
   "metadata": {},
   "outputs": [],
   "source": [
    "# Untuk keperluan testing\n",
    "\n",
    "def initialize_parameters(layers_dims):\n",
    "    np.random.seed(69)               \n",
    "    parameters = {}\n",
    "    L = len(layers_dims)\n",
    "\n",
    "    for l in range(1, L):           \n",
    "        parameters[\"W\" + str(l)] = np.random.randn(\n",
    "            layers_dims[l], layers_dims[l - 1]) * 0.01\n",
    "        parameters[\"b\" + str(l)] = np.zeros((layers_dims[l], 1))\n",
    "    \n",
    "    return parameters"
   ]
  },
  {
   "cell_type": "code",
   "execution_count": 4,
   "metadata": {},
   "outputs": [
    {
     "output_type": "stream",
     "name": "stdout",
     "text": [
      "{'W1': array([[ 0.00915507, -0.00603542],\n       [ 0.01162295, -0.006014  ]]), 'b1': array([[0.],\n       [0.]]), 'W2': array([[-0.01597486,  0.00397726]]), 'b2': array([[0.]])}\n4\n[[ 0.00915507 -0.00603542]\n [ 0.01162295 -0.006014  ]]\n"
     ]
    }
   ],
   "source": [
    "parameters = initialize_parameters([2,2,1])\n",
    "print(parameters)\n",
    "print(len(parameters))\n",
    "print(parameters['W1'])"
   ]
  },
  {
   "cell_type": "code",
   "execution_count": null,
   "metadata": {},
   "outputs": [],
   "source": []
  },
  {
   "source": [
    "## Fungsi-fungsi aktivasi"
   ],
   "cell_type": "markdown",
   "metadata": {}
  },
  {
   "cell_type": "code",
   "execution_count": 5,
   "metadata": {},
   "outputs": [],
   "source": [
    "def linear(Z):\n",
    "    c = 4\n",
    "    A = np.multiply(c, Z)\n",
    "    return A\n",
    "\n",
    "def sigmoid(Z):\n",
    "    arr = []\n",
    "    for x in Z:\n",
    "        arr.append(1 / (1 + np.exp(-x)))\n",
    "    # A = 1 / (1 + np.exp(-Z))\n",
    "    return arr\n",
    "\n",
    "def relu(Z):\n",
    "    A = np.maximum(0, Z)\n",
    "    return A\n",
    "\n",
    "def softmax(Z):\n",
    "    e = np.exp(Z)\n",
    "    return e/e.sum()\n",
    "\n"
   ]
  },
  {
   "cell_type": "code",
   "execution_count": 6,
   "metadata": {},
   "outputs": [
    {
     "output_type": "stream",
     "name": "stdout",
     "text": [
      "[4.5397868702434395e-05]\n[0]\n[-40]\n[1.]\n"
     ]
    }
   ],
   "source": [
    "# testing activation function\n",
    "\n",
    "Z = [-10]\n",
    "\n",
    "a = sigmoid(Z)\n",
    "b = relu(Z)\n",
    "c = linear(Z)\n",
    "d= softmax(Z)\n",
    "\n",
    "print(a)\n",
    "print(b)\n",
    "print(c)\n",
    "print(d)\n"
   ]
  },
  {
   "source": [
    "## Fungsi-fungsi untuk neural network"
   ],
   "cell_type": "markdown",
   "metadata": {}
  },
  {
   "cell_type": "code",
   "execution_count": 7,
   "metadata": {},
   "outputs": [],
   "source": [
    "def linear_forward(A_prev, W, b):\n",
    "    Z = np.dot(W, A_prev) + b #nilai sigma\n",
    "\n",
    "    if(len(Z) == 1):\n",
    "        return Z[0]\n",
    "\n",
    "    arr = []\n",
    "    for i in range(0,len(A_prev)):\n",
    "        arr.append(Z[i][i])\n",
    "\n",
    "    # print(arr)\n",
    "    return arr"
   ]
  },
  {
   "cell_type": "code",
   "execution_count": 8,
   "metadata": {},
   "outputs": [],
   "source": [
    "def linear_activation_forward(A_prev, W, b, activation_fn):\n",
    "\n",
    "    if activation_fn == \"linear\":\n",
    "        Z = linear_forward(A_prev, W, b)\n",
    "        A = linear(Z)\n",
    "\n",
    "    elif activation_fn == \"sigmoid\":\n",
    "        Z = linear_forward(A_prev, W, b)\n",
    "        A = sigmoid(Z)\n",
    "\n",
    "    elif activation_fn == \"relu\":\n",
    "        Z = linear_forward(A_prev, W, b)\n",
    "        A = relu(Z)\n",
    "    \n",
    "    elif activation_fn == \"softmax\":\n",
    "        Z = linear_forward(A_prev, W, b)\n",
    "        A = softmax(Z)\n",
    "    \n",
    "    else :\n",
    "        raise Exception(\"activation function unknown\")\n",
    "\n",
    "    return A"
   ]
  },
  {
   "cell_type": "code",
   "execution_count": 9,
   "metadata": {},
   "outputs": [],
   "source": [
    "def L_model_forward(X, parameters, hidden_layers_activation_fn=\"relu\"):\n",
    "    A = X                                               \n",
    "    L = len(parameters) // 2       \n",
    "\n",
    "    for l in range(1, L):\n",
    "        # print(l)\n",
    "        A_prev = A\n",
    "        A = linear_activation_forward(A_prev, parameters[\"W\" + str(l)], parameters[\"b\" + str(l)], activation_fn=hidden_layers_activation_fn)\n",
    "        # print(A)\n",
    "\n",
    "    AL = linear_activation_forward(A, parameters[\"W\" + str(L)], parameters[\"b\" + str(L)],activation_fn=\"sigmoid\")\n",
    "\n",
    "    # assert AL.shape == (1, X.shape[1])\n",
    "    return AL"
   ]
  },
  {
   "cell_type": "code",
   "execution_count": 10,
   "metadata": {},
   "outputs": [],
   "source": [
    "#  X = [0, 0]\n",
    "#  AL = L_model_forward(X, parameters, \"sigmoid\")\n",
    "#  print(AL)"
   ]
  },
  {
   "cell_type": "code",
   "execution_count": 11,
   "metadata": {},
   "outputs": [
    {
     "output_type": "stream",
     "name": "stdout",
     "text": [
      "4\n{'W1': [[20, 20], [-20, 20]], 'b1': [[-10], [30]], 'W2': [[20, 20]], 'b2': [[-30]]}\n[[20, 20], [-20, 20]]\n"
     ]
    }
   ],
   "source": [
    "test_parameter = {}\n",
    "test_parameter['W1'] = [[20, 20], [-20, 20]]\n",
    "test_parameter['b1'] = [[-10],[30]]\n",
    "test_parameter['W2'] = [[20, 20]]\n",
    "test_parameter['b2'] = [[-30]]\n",
    "\n",
    "print(len(test_parameter))\n",
    "\n",
    "print(test_parameter)\n",
    "print(test_parameter['W1'])"
   ]
  },
  {
   "source": [
    "tes fungsi  \n",
    "\n",
    "Dari soal slide kuliah"
   ],
   "cell_type": "markdown",
   "metadata": {}
  },
  {
   "cell_type": "code",
   "execution_count": 12,
   "metadata": {},
   "outputs": [
    {
     "output_type": "stream",
     "name": "stdout",
     "text": [
      "[4.543910487654591e-05]\n[0.9999545608951235]\n[0.999954519621495]\n[0.9999546021312974]\n"
     ]
    }
   ],
   "source": [
    "X = [0,0]\n",
    "aa = L_model_forward(X, test_parameter, \"sigmoid\")\n",
    "print(aa)\n",
    "\n",
    "X2 = [0,1]\n",
    "bb = L_model_forward(X2, test_parameter, \"sigmoid\")\n",
    "print(bb)\n",
    "\n",
    "X3 = [1,0]\n",
    "cc = L_model_forward(X3, test_parameter, \"sigmoid\")\n",
    "print(cc)\n",
    "\n",
    "X4 = [1,1]\n",
    "dd = L_model_forward(X4, test_parameter, \"sigmoid\")\n",
    "print(dd)"
   ]
  },
  {
   "source": [],
   "cell_type": "markdown",
   "metadata": {}
  },
  {
   "cell_type": "code",
   "execution_count": null,
   "metadata": {},
   "outputs": [],
   "source": []
  },
  {
   "cell_type": "code",
   "execution_count": null,
   "metadata": {},
   "outputs": [],
   "source": []
  }
 ]
}
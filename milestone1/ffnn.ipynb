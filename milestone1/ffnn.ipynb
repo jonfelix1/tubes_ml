{
 "metadata": {
  "language_info": {
   "codemirror_mode": {
    "name": "ipython",
    "version": 3
   },
   "file_extension": ".py",
   "mimetype": "text/x-python",
   "name": "python",
   "nbconvert_exporter": "python",
   "pygments_lexer": "ipython3",
   "version": "3.7.5-final"
  },
  "orig_nbformat": 2,
  "kernelspec": {
   "name": "python3",
   "display_name": "Python 3.7.5 64-bit",
   "metadata": {
    "interpreter": {
     "hash": "08876914b93de310088a782f60f6c6abc8e6f6e29f02ef0079734cfa98a8305c"
    }
   }
  }
 },
 "nbformat": 4,
 "nbformat_minor": 2,
 "cells": [
  {
   "source": [
    "# Tugas Besar Machine Learning Milestone 1"
   ],
   "cell_type": "markdown",
   "metadata": {}
  },
  {
   "cell_type": "code",
   "execution_count": 354,
   "metadata": {},
   "outputs": [],
   "source": [
    "import numpy as np\n",
    "import re"
   ]
  },
  {
   "cell_type": "code",
   "execution_count": 355,
   "metadata": {},
   "outputs": [],
   "source": [
    "# Catatan untuk siapapun yang bikin input file untuk dibuat ke parameter"
   ]
  },
  {
   "source": [
    "Struktur data untuk array\n",
    "\n",
    "\n",
    "Sedikit penjelasan untuk parameter  \n",
    "W1 menyimpan semua bobot untuk layer 1  \n",
    "Wn menyimpan semua bobot untuk layer n\n",
    "\n",
    "Untuk memanggil bobot di layer 1 dengan dari x1  ke h1  \n",
    "`parameter['W1'][0][0]`  \n",
    "  \n",
    "Untuk memanggil bias di layer 1  ke-1  \n",
    "`parameter['b1'][0]`\n"
   ],
   "cell_type": "markdown",
   "metadata": {}
  },
  {
   "cell_type": "code",
   "execution_count": 356,
   "metadata": {},
   "outputs": [],
   "source": [
    "# FIXME : Delete pas kumpul\n",
    "\n",
    "# Untuk keperluan testing\n",
    "\n",
    "def initialize_parameters(layers_dims):\n",
    "    np.random.seed(69)               \n",
    "    parameters = {}\n",
    "    L = len(layers_dims)\n",
    "\n",
    "    for l in range(1, L):           \n",
    "        parameters[\"W\" + str(l)] = np.random.randn(\n",
    "            layers_dims[l], layers_dims[l - 1]) * 0.01\n",
    "        parameters[\"b\" + str(l)] = np.zeros((layers_dims[l], 1))\n",
    "    \n",
    "    return parameters"
   ]
  },
  {
   "cell_type": "code",
   "execution_count": 357,
   "metadata": {},
   "outputs": [
    {
     "output_type": "stream",
     "name": "stdout",
     "text": [
      "{'W1': array([[ 0.00915507, -0.00603542],\n       [ 0.01162295, -0.006014  ]]), 'b1': array([[0.],\n       [0.]]), 'W2': array([[-0.01597486,  0.00397726]]), 'b2': array([[0.]])}\n4\n[[ 0.00915507 -0.00603542]\n [ 0.01162295 -0.006014  ]]\n"
     ]
    }
   ],
   "source": [
    "# FIXME : Delete pas kumpul\n",
    "\n",
    "parameters = initialize_parameters([2,2,1])\n",
    "print(parameters)\n",
    "print(len(parameters))\n",
    "print(parameters['W1'])"
   ]
  },
  {
   "source": [
    "## Fungsi Parameter"
   ],
   "cell_type": "markdown",
   "metadata": {}
  },
  {
   "cell_type": "code",
   "execution_count": 358,
   "metadata": {},
   "outputs": [],
   "source": [
    "\n",
    "# testing activation function\n",
    "test_parameter = {}\n",
    "def get_parameter_from_file(filename):\n",
    "    parameter = {}\n",
    "    file = open(filename, \"r\")\n",
    "    switch = False\n",
    "    i = 0\n",
    "    for lines in file:\n",
    "        lines = lines.replace('\\n','')\n",
    "        if lines == \"bias\":\n",
    "            switch = True\n",
    "            i = 0\n",
    "        else:\n",
    "            i=i+1\n",
    "            #readline = re.split('\\],',readline)\n",
    "            reader = re.split('\\],\\s*',lines)\n",
    "            for itter in range(len(reader)):\n",
    "                reader[itter] = reader[itter].replace('[','')\n",
    "                reader[itter] = reader[itter].replace(']','')\n",
    "                reader[itter] = re.split(',\\s',reader[itter])\n",
    "                for seconditter in range(len(reader[itter])):\n",
    "                    reader[itter][seconditter] = int(reader[itter][seconditter])\n",
    "            #print(re.split('\\],\\s',lines))\n",
    "            if (not switch):\n",
    "                parameter[str('W'+str(i))] = reader\n",
    "            else:\n",
    "                parameter[str('b'+str(i))] = reader\n",
    "    return parameter\n",
    "    #end of reader   "
   ]
  },
  {
   "cell_type": "code",
   "execution_count": 359,
   "metadata": {},
   "outputs": [],
   "source": [
    "def print_parameter(parameter):\n",
    "    L = len(parameter) // 2\n",
    "\n",
    "    for i in range(0, L):\n",
    "        print('Layer ke ' + str(i+1) + \" :\")\n",
    "        print(\"W\" + str(i+1) + \" = \", parameter[\"W\" + str(i+1)])\n",
    "        print(\"b\" + str(i+1) + \" = \", parameter[\"b\" + str(i+1)])\n",
    "\n",
    "        # for j in range(0, len(parameter[\"W\" + str(i+1)])):\n",
    "        #     for k in range(0, len(parameter[\"W\" + str(i+1)][j])):\n",
    "        #         print('W' + str(j+1) + str(k+1) + \" = \", parameter[\"W\" + str(i+1)][j][k])"
   ]
  },
  {
   "source": [
    "## Fungsi-fungsi aktivasi"
   ],
   "cell_type": "markdown",
   "metadata": {}
  },
  {
   "cell_type": "code",
   "execution_count": 360,
   "metadata": {},
   "outputs": [],
   "source": [
    "def linear(c, Z):\n",
    "    A = np.multiply(c, Z)\n",
    "    return A\n",
    "\n",
    "def sigmoid(Z):\n",
    "    arr = []\n",
    "    for x in Z:\n",
    "        arr.append(1 / (1 + np.exp(-x)))\n",
    "    return arr\n",
    "\n",
    "def relu(Z):\n",
    "    A = np.maximum(0, Z)\n",
    "    return A\n",
    "\n",
    "def softmax(Z):\n",
    "    e = np.exp(Z)\n",
    "    return e/e.sum()\n",
    "\n"
   ]
  },
  {
   "cell_type": "code",
   "execution_count": 361,
   "metadata": {},
   "outputs": [
    {
     "output_type": "stream",
     "name": "stdout",
     "text": [
      "[4.5397868702434395e-05, 0.8807970779778823]\n[0 2]\n[-10   2]\n[6.14417460e-06 9.99993856e-01]\n"
     ]
    }
   ],
   "source": [
    "# testing activation function\n",
    "\n",
    "# FIXME : delete pas ngumpul\n",
    "Z = [-10, 2]\n",
    "\n",
    "a = sigmoid(Z)\n",
    "b = relu(Z)\n",
    "c = linear(1, Z)\n",
    "d = softmax(Z)\n",
    "\n",
    "print(a)\n",
    "print(b)\n",
    "print(c)\n",
    "print(d)\n"
   ]
  },
  {
   "source": [
    "## Fungsi-fungsi untuk neural network"
   ],
   "cell_type": "markdown",
   "metadata": {}
  },
  {
   "cell_type": "code",
   "execution_count": 362,
   "metadata": {},
   "outputs": [],
   "source": [
    "def linear_forward(A_prev, W, b):\n",
    "    Z = np.dot(W, A_prev) + b #nilai sigma\n",
    "\n",
    "    if(len(Z) == 1):\n",
    "        return Z[0]\n",
    "\n",
    "    arr = []\n",
    "    for i in range(0,len(A_prev)):\n",
    "        arr.append(Z[i][i])\n",
    "\n",
    "    # print(arr)\n",
    "    return arr"
   ]
  },
  {
   "cell_type": "code",
   "execution_count": 363,
   "metadata": {},
   "outputs": [],
   "source": [
    "def linear_activation_forward(A_prev, W, b, activation_fn):\n",
    "    Z = linear_forward(A_prev, W, b)\n",
    "    \n",
    "    if activation_fn == \"linear\":\n",
    "        A = linear(1, Z)\n",
    "\n",
    "    elif activation_fn == \"sigmoid\":\n",
    "        A = sigmoid(Z)\n",
    "\n",
    "    elif activation_fn == \"relu\":\n",
    "        A = relu(Z)\n",
    "    \n",
    "    elif activation_fn == \"softmax\":\n",
    "        A = softmax(Z)\n",
    "    \n",
    "    else :\n",
    "        raise Exception(\"activation function unknown\")\n",
    "\n",
    "    return A"
   ]
  },
  {
   "cell_type": "code",
   "execution_count": 364,
   "metadata": {},
   "outputs": [],
   "source": [
    "def L_model_forward(X, parameters, hidden_layers_activation_fn=\"relu\"):\n",
    "    A = X                                               \n",
    "    L = len(parameters) // 2       \n",
    "\n",
    "    for l in range(1, L):\n",
    "        # print(l)\n",
    "        A_prev = A\n",
    "        A = linear_activation_forward(A_prev, parameters[\"W\" + str(l)], parameters[\"b\" + str(l)], activation_fn=hidden_layers_activation_fn)\n",
    "        # print(A)\n",
    "\n",
    "    AL = linear_activation_forward(A, parameters[\"W\" + str(L)], parameters[\"b\" + str(L)],activation_fn=\"sigmoid\")\n",
    "\n",
    "    # assert AL.shape == (1, X.shape[1])\n",
    "    return AL"
   ]
  },
  {
   "cell_type": "code",
   "execution_count": 365,
   "metadata": {},
   "outputs": [],
   "source": [
    "#  X = [0, 0]\n",
    "#  AL = L_model_forward(X, parameters, \"sigmoid\")\n",
    "#  print(AL)"
   ]
  },
  {
   "source": [
    "## Pengujian model sigmoid\n",
    "Dengan parameter dari slide kuliah"
   ],
   "cell_type": "markdown",
   "metadata": {}
  },
  {
   "cell_type": "code",
   "execution_count": 366,
   "metadata": {},
   "outputs": [
    {
     "output_type": "stream",
     "name": "stdout",
     "text": [
      "test 1 instance\n[x1,x2] = [0, 0], output: 4.543910487654591e-05\n\ntest batch dari 4 instance\ninstance 1 [x1,x2] = [0, 0], output: 4.543910487654591e-05\ninstance 2 [x1,x2] = [0, 1], output: 0.999954519621495\ninstance 3 [x1,x2] = [1, 0], output: 0.999954519621495\ninstance 4 [x1,x2] = [1, 1], output: 4.543910487654591e-05\n"
     ]
    }
   ],
   "source": [
    "test_parameter = get_parameter_from_file(\"demofile.txt\")\n",
    "print(\"test 1 instance\")\n",
    "instance = [0,0]\n",
    "out = L_model_forward(instance, test_parameter, \"sigmoid\")\n",
    "print(\"[x1,x2] = \",end=\"\")\n",
    "print(instance, end=\", output: \")\n",
    "print(out[0])\n",
    "\n",
    "print(\"\")\n",
    "print(\"test batch dari 4 instance\")\n",
    "instances = [[0,0],[0,1],[1,0],[1,1]]\n",
    "for i in range(len(instances)):\n",
    "    out = L_model_forward(instances[i], test_parameter, \"sigmoid\")\n",
    "    print(\"instance \"+str(i+1)+\" [x1,x2] = \",end=\"\")\n",
    "    print(instances[i], end=\", output: \")\n",
    "    print(out[0])"
   ]
  },
  {
   "source": [],
   "cell_type": "markdown",
   "metadata": {}
  },
  {
   "cell_type": "code",
   "execution_count": 367,
   "metadata": {},
   "outputs": [
    {
     "output_type": "stream",
     "name": "stdout",
     "text": [
      "Layer ke 1 :\nW1 =  [[20, 20], [-20, -20]]\nb1 =  [[-10], [30]]\nLayer ke 2 :\nW2 =  [[20, 20]]\nb2 =  [[-30]]\n"
     ]
    }
   ],
   "source": [
    "# FIXME : Delete pas kumpul\n",
    "\n",
    "print_parameter(test_parameter)"
   ]
  },
  {
   "cell_type": "code",
   "execution_count": null,
   "metadata": {},
   "outputs": [],
   "source": []
  }
 ]
}